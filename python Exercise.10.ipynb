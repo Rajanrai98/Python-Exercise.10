{
 "cells": [
  {
   "cell_type": "code",
   "execution_count": null,
   "id": "3630b33e",
   "metadata": {},
   "outputs": [],
   "source": [
    "num = int(input(\"enter the number:\"))\n",
    "if num>1:\n",
    "    for i in range(2,num):\n",
    "        if num%i==0:\n",
    "            print(\"this is not a prime number:\")\n",
    "            break\n",
    "    else:\n",
    "        print(\"this is a prime number:\")"
   ]
  },
  {
   "cell_type": "code",
   "execution_count": null,
   "id": "05b20cea",
   "metadata": {},
   "outputs": [],
   "source": [
    "lower = int(input(\"enter the numbers:\"))\n",
    "upper = int(input(\"enter the numbers:\"))\n",
    "for num in range(lower ,upper+1):\n",
    "    for i in range(2,num):\n",
    "        if num%i==0:\n",
    "            break\n",
    "    else:\n",
    "        print(num)"
   ]
  },
  {
   "cell_type": "code",
   "execution_count": null,
   "id": "5a3aa37a",
   "metadata": {},
   "outputs": [],
   "source": [
    "animals = [\"mockey\",\"dog\",\"cat\",\"leopard\",\"jaguar\",\"cheetah\",\"lion\"]\n",
    "list_1 = []\n",
    "for x in animals:\n",
    "    if x!=\"lion\":\n",
    "        list_1.append(x)\n",
    "print(list_1)"
   ]
  },
  {
   "cell_type": "code",
   "execution_count": null,
   "id": "90b3ccc8",
   "metadata": {},
   "outputs": [],
   "source": [
    "animals = [\"mockey\",\"dog\",\"cat\",\"leopard\",\"jaguar\",\"cheetah\",\"lion\"]\n",
    "animals.append(\"tiger\")"
   ]
  },
  {
   "cell_type": "code",
   "execution_count": null,
   "id": "bd495984",
   "metadata": {},
   "outputs": [],
   "source": [
    "animals"
   ]
  },
  {
   "cell_type": "code",
   "execution_count": null,
   "id": "22080caf",
   "metadata": {},
   "outputs": [],
   "source": [
    "def factorial(a):\n",
    "    if a==0:\n",
    "        return 1\n",
    "    else:\n",
    "        return a*factorial(a-1)"
   ]
  },
  {
   "cell_type": "code",
   "execution_count": null,
   "id": "6ee8957d",
   "metadata": {},
   "outputs": [],
   "source": [
    "factorial(3)"
   ]
  },
  {
   "cell_type": "code",
   "execution_count": 3,
   "id": "8acd1db3",
   "metadata": {},
   "outputs": [
    {
     "name": "stdout",
     "output_type": "stream",
     "text": [
      "2\n",
      "3\n",
      "5\n",
      "7\n",
      "11\n",
      "13\n",
      "17\n",
      "19\n",
      "23\n",
      "29\n",
      "31\n",
      "37\n",
      "41\n",
      "43\n",
      "47\n",
      "53\n",
      "59\n",
      "61\n",
      "67\n",
      "71\n",
      "73\n",
      "79\n",
      "83\n",
      "89\n",
      "97\n",
      "101\n"
     ]
    }
   ],
   "source": [
    "numbers = 2\n",
    "count = 0\n",
    "while count<=25:\n",
    "    for i in range(2,numbers):\n",
    "        if numbers%i==0:\n",
    "            break\n",
    "    else:\n",
    "        print(numbers)\n",
    "        count+=1\n",
    "    numbers+=1\n",
    "            "
   ]
  },
  {
   "cell_type": "code",
   "execution_count": 4,
   "id": "21dde2c4",
   "metadata": {},
   "outputs": [],
   "source": [
    "lst1 = [1,2,3,4,5,1,2,3,4]\n",
    "lst2 = [2,3,4,6,7,8,9,9,6]\n"
   ]
  },
  {
   "cell_type": "code",
   "execution_count": 5,
   "id": "6f721ce9",
   "metadata": {},
   "outputs": [],
   "source": [
    "def unique_terms(lst1,lst2):\n",
    "    unique_lst = []\n",
    "    for terms in lst1:\n",
    "        if terms in lst2:\n",
    "            unique_lst.append(terms)\n",
    "    return unique_lst"
   ]
  },
  {
   "cell_type": "code",
   "execution_count": 7,
   "id": "d808ba4d",
   "metadata": {},
   "outputs": [
    {
     "data": {
      "text/plain": [
       "[2, 3, 4, 2, 3, 4]"
      ]
     },
     "execution_count": 7,
     "metadata": {},
     "output_type": "execute_result"
    }
   ],
   "source": [
    "unique_terms(lst1,lst2)"
   ]
  },
  {
   "cell_type": "code",
   "execution_count": 8,
   "id": "82b82710",
   "metadata": {},
   "outputs": [],
   "source": [
    "def unique_items(lst1,lst2):\n",
    "    unique_terms = []\n",
    "    for items in lst1:\n",
    "        if items in lst2:\n",
    "            unique_terms.append(items)\n",
    "    return unique_terms"
   ]
  },
  {
   "cell_type": "code",
   "execution_count": 9,
   "id": "85c6049d",
   "metadata": {},
   "outputs": [
    {
     "data": {
      "text/plain": [
       "[2, 3, 4, 2, 3, 4]"
      ]
     },
     "execution_count": 9,
     "metadata": {},
     "output_type": "execute_result"
    }
   ],
   "source": [
    "unique_items(lst1,lst2)"
   ]
  },
  {
   "cell_type": "code",
   "execution_count": 12,
   "id": "ed027688",
   "metadata": {},
   "outputs": [
    {
     "name": "stdout",
     "output_type": "stream",
     "text": [
      "1\n",
      "3\n",
      "5\n",
      "7\n",
      "9\n",
      "11\n",
      "13\n",
      "15\n",
      "17\n",
      "19\n",
      "21\n",
      "23\n",
      "25\n",
      "27\n",
      "29\n",
      "31\n",
      "33\n",
      "35\n",
      "37\n",
      "39\n",
      "41\n",
      "43\n",
      "45\n",
      "47\n",
      "49\n",
      "51\n"
     ]
    }
   ],
   "source": [
    "count = 0\n",
    "numbers = 1\n",
    "while count<=25:\n",
    "    if numbers%2!=0:\n",
    "        print(numbers)\n",
    "        count+=1\n",
    "    numbers+=1"
   ]
  },
  {
   "cell_type": "code",
   "execution_count": 15,
   "id": "d58cfc68",
   "metadata": {},
   "outputs": [
    {
     "name": "stdout",
     "output_type": "stream",
     "text": [
      "2\n",
      "4\n",
      "6\n",
      "8\n",
      "10\n",
      "12\n",
      "14\n",
      "16\n",
      "18\n",
      "20\n",
      "22\n",
      "24\n",
      "26\n",
      "28\n",
      "30\n",
      "32\n",
      "34\n",
      "36\n",
      "38\n",
      "40\n",
      "42\n",
      "44\n",
      "46\n",
      "48\n",
      "50\n",
      "52\n"
     ]
    }
   ],
   "source": [
    "count = 0\n",
    "numbers = 1\n",
    "while count<=25:\n",
    "    if numbers%2==0:\n",
    "        print(numbers)\n",
    "        count+=1\n",
    "    numbers+=1"
   ]
  },
  {
   "cell_type": "code",
   "execution_count": 24,
   "id": "10779433",
   "metadata": {},
   "outputs": [
    {
     "name": "stdout",
     "output_type": "stream",
     "text": [
      "3\n"
     ]
    }
   ],
   "source": [
    "vowels = [\"a\",\"i\",\"o\",\"e\",\"u\"]\n",
    "words = \"programming\"\n",
    "count = 0\n",
    "for letter in words:\n",
    "    if letter in vowels:\n",
    "        count+=1\n",
    "print(count)\n",
    "        "
   ]
  },
  {
   "cell_type": "code",
   "execution_count": 25,
   "id": "2a4b9168",
   "metadata": {},
   "outputs": [
    {
     "name": "stdout",
     "output_type": "stream",
     "text": [
      "13\n"
     ]
    }
   ],
   "source": [
    "vowels = [\"a\",\"i\",\"o\",\"e\",\"u\"]\n",
    "sentence = \"bharat is a great a civilisation\"\n",
    "count = 0\n",
    "for letter in sentence:\n",
    "    if letter in vowels:\n",
    "        count+=1\n",
    "print(count)"
   ]
  },
  {
   "cell_type": "code",
   "execution_count": 27,
   "id": "456228d7",
   "metadata": {},
   "outputs": [
    {
     "name": "stdout",
     "output_type": "stream",
     "text": [
      "6\n"
     ]
    }
   ],
   "source": [
    "sentence = \"bharat is a great a civilisation\"\n",
    "character = \"a\"\n",
    "count = 0\n",
    "for letter in sentence:\n",
    "    if letter==character:\n",
    "        count+=1\n",
    "print(count)"
   ]
  },
  {
   "cell_type": "code",
   "execution_count": 28,
   "id": "77480f28",
   "metadata": {},
   "outputs": [],
   "source": [
    "lst1 = [1,2,3,4,5]\n",
    "lst2 = [9,8,7,6,5]\n"
   ]
  },
  {
   "cell_type": "code",
   "execution_count": 32,
   "id": "2f0adbac",
   "metadata": {},
   "outputs": [],
   "source": [
    "def addition(lst1,lst2):\n",
    "    lst3 = []\n",
    "    for value in range(0,lst1[0]):\n",
    "        lst3.append(lst1[0]+lst2[0])\n",
    "    return lst3\n",
    "    "
   ]
  },
  {
   "cell_type": "code",
   "execution_count": 33,
   "id": "687c1e4b",
   "metadata": {},
   "outputs": [
    {
     "data": {
      "text/plain": [
       "[10]"
      ]
     },
     "execution_count": 33,
     "metadata": {},
     "output_type": "execute_result"
    }
   ],
   "source": [
    "addition(lst1,lst2)"
   ]
  },
  {
   "cell_type": "code",
   "execution_count": 34,
   "id": "4d7a6744",
   "metadata": {},
   "outputs": [],
   "source": [
    "result = [x+y for x,y in zip(lst1,lst2)]"
   ]
  },
  {
   "cell_type": "code",
   "execution_count": 35,
   "id": "b45df505",
   "metadata": {},
   "outputs": [
    {
     "data": {
      "text/plain": [
       "[10, 10, 10, 10, 10]"
      ]
     },
     "execution_count": 35,
     "metadata": {},
     "output_type": "execute_result"
    }
   ],
   "source": [
    "result"
   ]
  },
  {
   "cell_type": "code",
   "execution_count": 37,
   "id": "f04be5c3",
   "metadata": {},
   "outputs": [],
   "source": [
    "import pandas as pd"
   ]
  },
  {
   "cell_type": "code",
   "execution_count": 38,
   "id": "bd6f449a",
   "metadata": {},
   "outputs": [],
   "source": [
    "data = pd.DataFrame({\"x\":range(1,101) , \"y\":[x**2 for x in range(1,101)]})"
   ]
  },
  {
   "cell_type": "code",
   "execution_count": 39,
   "id": "2513eed9",
   "metadata": {},
   "outputs": [
    {
     "data": {
      "text/html": [
       "<div>\n",
       "<style scoped>\n",
       "    .dataframe tbody tr th:only-of-type {\n",
       "        vertical-align: middle;\n",
       "    }\n",
       "\n",
       "    .dataframe tbody tr th {\n",
       "        vertical-align: top;\n",
       "    }\n",
       "\n",
       "    .dataframe thead th {\n",
       "        text-align: right;\n",
       "    }\n",
       "</style>\n",
       "<table border=\"1\" class=\"dataframe\">\n",
       "  <thead>\n",
       "    <tr style=\"text-align: right;\">\n",
       "      <th></th>\n",
       "      <th>x</th>\n",
       "      <th>y</th>\n",
       "    </tr>\n",
       "  </thead>\n",
       "  <tbody>\n",
       "    <tr>\n",
       "      <th>0</th>\n",
       "      <td>1</td>\n",
       "      <td>1</td>\n",
       "    </tr>\n",
       "    <tr>\n",
       "      <th>1</th>\n",
       "      <td>2</td>\n",
       "      <td>4</td>\n",
       "    </tr>\n",
       "    <tr>\n",
       "      <th>2</th>\n",
       "      <td>3</td>\n",
       "      <td>9</td>\n",
       "    </tr>\n",
       "    <tr>\n",
       "      <th>3</th>\n",
       "      <td>4</td>\n",
       "      <td>16</td>\n",
       "    </tr>\n",
       "    <tr>\n",
       "      <th>4</th>\n",
       "      <td>5</td>\n",
       "      <td>25</td>\n",
       "    </tr>\n",
       "    <tr>\n",
       "      <th>...</th>\n",
       "      <td>...</td>\n",
       "      <td>...</td>\n",
       "    </tr>\n",
       "    <tr>\n",
       "      <th>95</th>\n",
       "      <td>96</td>\n",
       "      <td>9216</td>\n",
       "    </tr>\n",
       "    <tr>\n",
       "      <th>96</th>\n",
       "      <td>97</td>\n",
       "      <td>9409</td>\n",
       "    </tr>\n",
       "    <tr>\n",
       "      <th>97</th>\n",
       "      <td>98</td>\n",
       "      <td>9604</td>\n",
       "    </tr>\n",
       "    <tr>\n",
       "      <th>98</th>\n",
       "      <td>99</td>\n",
       "      <td>9801</td>\n",
       "    </tr>\n",
       "    <tr>\n",
       "      <th>99</th>\n",
       "      <td>100</td>\n",
       "      <td>10000</td>\n",
       "    </tr>\n",
       "  </tbody>\n",
       "</table>\n",
       "<p>100 rows × 2 columns</p>\n",
       "</div>"
      ],
      "text/plain": [
       "      x      y\n",
       "0     1      1\n",
       "1     2      4\n",
       "2     3      9\n",
       "3     4     16\n",
       "4     5     25\n",
       "..  ...    ...\n",
       "95   96   9216\n",
       "96   97   9409\n",
       "97   98   9604\n",
       "98   99   9801\n",
       "99  100  10000\n",
       "\n",
       "[100 rows x 2 columns]"
      ]
     },
     "execution_count": 39,
     "metadata": {},
     "output_type": "execute_result"
    }
   ],
   "source": [
    "data"
   ]
  },
  {
   "cell_type": "code",
   "execution_count": 40,
   "id": "f2943bbc",
   "metadata": {},
   "outputs": [],
   "source": [
    "data = pd.DataFrame({\"x\":range(1,101) , \"y\":[x**0.5 for x in range(1,101)]})"
   ]
  },
  {
   "cell_type": "code",
   "execution_count": 41,
   "id": "67708157",
   "metadata": {},
   "outputs": [
    {
     "data": {
      "text/html": [
       "<div>\n",
       "<style scoped>\n",
       "    .dataframe tbody tr th:only-of-type {\n",
       "        vertical-align: middle;\n",
       "    }\n",
       "\n",
       "    .dataframe tbody tr th {\n",
       "        vertical-align: top;\n",
       "    }\n",
       "\n",
       "    .dataframe thead th {\n",
       "        text-align: right;\n",
       "    }\n",
       "</style>\n",
       "<table border=\"1\" class=\"dataframe\">\n",
       "  <thead>\n",
       "    <tr style=\"text-align: right;\">\n",
       "      <th></th>\n",
       "      <th>x</th>\n",
       "      <th>y</th>\n",
       "    </tr>\n",
       "  </thead>\n",
       "  <tbody>\n",
       "    <tr>\n",
       "      <th>0</th>\n",
       "      <td>1</td>\n",
       "      <td>1.000000</td>\n",
       "    </tr>\n",
       "    <tr>\n",
       "      <th>1</th>\n",
       "      <td>2</td>\n",
       "      <td>1.414214</td>\n",
       "    </tr>\n",
       "    <tr>\n",
       "      <th>2</th>\n",
       "      <td>3</td>\n",
       "      <td>1.732051</td>\n",
       "    </tr>\n",
       "    <tr>\n",
       "      <th>3</th>\n",
       "      <td>4</td>\n",
       "      <td>2.000000</td>\n",
       "    </tr>\n",
       "    <tr>\n",
       "      <th>4</th>\n",
       "      <td>5</td>\n",
       "      <td>2.236068</td>\n",
       "    </tr>\n",
       "    <tr>\n",
       "      <th>...</th>\n",
       "      <td>...</td>\n",
       "      <td>...</td>\n",
       "    </tr>\n",
       "    <tr>\n",
       "      <th>95</th>\n",
       "      <td>96</td>\n",
       "      <td>9.797959</td>\n",
       "    </tr>\n",
       "    <tr>\n",
       "      <th>96</th>\n",
       "      <td>97</td>\n",
       "      <td>9.848858</td>\n",
       "    </tr>\n",
       "    <tr>\n",
       "      <th>97</th>\n",
       "      <td>98</td>\n",
       "      <td>9.899495</td>\n",
       "    </tr>\n",
       "    <tr>\n",
       "      <th>98</th>\n",
       "      <td>99</td>\n",
       "      <td>9.949874</td>\n",
       "    </tr>\n",
       "    <tr>\n",
       "      <th>99</th>\n",
       "      <td>100</td>\n",
       "      <td>10.000000</td>\n",
       "    </tr>\n",
       "  </tbody>\n",
       "</table>\n",
       "<p>100 rows × 2 columns</p>\n",
       "</div>"
      ],
      "text/plain": [
       "      x          y\n",
       "0     1   1.000000\n",
       "1     2   1.414214\n",
       "2     3   1.732051\n",
       "3     4   2.000000\n",
       "4     5   2.236068\n",
       "..  ...        ...\n",
       "95   96   9.797959\n",
       "96   97   9.848858\n",
       "97   98   9.899495\n",
       "98   99   9.949874\n",
       "99  100  10.000000\n",
       "\n",
       "[100 rows x 2 columns]"
      ]
     },
     "execution_count": 41,
     "metadata": {},
     "output_type": "execute_result"
    }
   ],
   "source": [
    "data"
   ]
  },
  {
   "cell_type": "code",
   "execution_count": 43,
   "id": "fd70887d",
   "metadata": {},
   "outputs": [],
   "source": [
    "data = pd.DataFrame({\"x\":range(1,101) , \"y\":[x**3 for x in range(1,101)] , \"z\": [x**0.5 for x in range(1,101)] , \"k\":[x**0.33 for x in range(1,101)]})"
   ]
  },
  {
   "cell_type": "code",
   "execution_count": 44,
   "id": "9910230b",
   "metadata": {},
   "outputs": [
    {
     "data": {
      "text/html": [
       "<div>\n",
       "<style scoped>\n",
       "    .dataframe tbody tr th:only-of-type {\n",
       "        vertical-align: middle;\n",
       "    }\n",
       "\n",
       "    .dataframe tbody tr th {\n",
       "        vertical-align: top;\n",
       "    }\n",
       "\n",
       "    .dataframe thead th {\n",
       "        text-align: right;\n",
       "    }\n",
       "</style>\n",
       "<table border=\"1\" class=\"dataframe\">\n",
       "  <thead>\n",
       "    <tr style=\"text-align: right;\">\n",
       "      <th></th>\n",
       "      <th>x</th>\n",
       "      <th>y</th>\n",
       "      <th>z</th>\n",
       "      <th>k</th>\n",
       "    </tr>\n",
       "  </thead>\n",
       "  <tbody>\n",
       "    <tr>\n",
       "      <th>0</th>\n",
       "      <td>1</td>\n",
       "      <td>1</td>\n",
       "      <td>1.000000</td>\n",
       "      <td>1.000000</td>\n",
       "    </tr>\n",
       "    <tr>\n",
       "      <th>1</th>\n",
       "      <td>2</td>\n",
       "      <td>8</td>\n",
       "      <td>1.414214</td>\n",
       "      <td>1.257013</td>\n",
       "    </tr>\n",
       "    <tr>\n",
       "      <th>2</th>\n",
       "      <td>3</td>\n",
       "      <td>27</td>\n",
       "      <td>1.732051</td>\n",
       "      <td>1.436978</td>\n",
       "    </tr>\n",
       "    <tr>\n",
       "      <th>3</th>\n",
       "      <td>4</td>\n",
       "      <td>64</td>\n",
       "      <td>2.000000</td>\n",
       "      <td>1.580083</td>\n",
       "    </tr>\n",
       "    <tr>\n",
       "      <th>4</th>\n",
       "      <td>5</td>\n",
       "      <td>125</td>\n",
       "      <td>2.236068</td>\n",
       "      <td>1.700827</td>\n",
       "    </tr>\n",
       "    <tr>\n",
       "      <th>...</th>\n",
       "      <td>...</td>\n",
       "      <td>...</td>\n",
       "      <td>...</td>\n",
       "      <td>...</td>\n",
       "    </tr>\n",
       "    <tr>\n",
       "      <th>95</th>\n",
       "      <td>96</td>\n",
       "      <td>884736</td>\n",
       "      <td>9.797959</td>\n",
       "      <td>4.509719</td>\n",
       "    </tr>\n",
       "    <tr>\n",
       "      <th>96</th>\n",
       "      <td>97</td>\n",
       "      <td>912673</td>\n",
       "      <td>9.848858</td>\n",
       "      <td>4.525168</td>\n",
       "    </tr>\n",
       "    <tr>\n",
       "      <th>97</th>\n",
       "      <td>98</td>\n",
       "      <td>941192</td>\n",
       "      <td>9.899495</td>\n",
       "      <td>4.540510</td>\n",
       "    </tr>\n",
       "    <tr>\n",
       "      <th>98</th>\n",
       "      <td>99</td>\n",
       "      <td>970299</td>\n",
       "      <td>9.949874</td>\n",
       "      <td>4.555747</td>\n",
       "    </tr>\n",
       "    <tr>\n",
       "      <th>99</th>\n",
       "      <td>100</td>\n",
       "      <td>1000000</td>\n",
       "      <td>10.000000</td>\n",
       "      <td>4.570882</td>\n",
       "    </tr>\n",
       "  </tbody>\n",
       "</table>\n",
       "<p>100 rows × 4 columns</p>\n",
       "</div>"
      ],
      "text/plain": [
       "      x        y          z         k\n",
       "0     1        1   1.000000  1.000000\n",
       "1     2        8   1.414214  1.257013\n",
       "2     3       27   1.732051  1.436978\n",
       "3     4       64   2.000000  1.580083\n",
       "4     5      125   2.236068  1.700827\n",
       "..  ...      ...        ...       ...\n",
       "95   96   884736   9.797959  4.509719\n",
       "96   97   912673   9.848858  4.525168\n",
       "97   98   941192   9.899495  4.540510\n",
       "98   99   970299   9.949874  4.555747\n",
       "99  100  1000000  10.000000  4.570882\n",
       "\n",
       "[100 rows x 4 columns]"
      ]
     },
     "execution_count": 44,
     "metadata": {},
     "output_type": "execute_result"
    }
   ],
   "source": [
    "data"
   ]
  },
  {
   "cell_type": "code",
   "execution_count": null,
   "id": "1e8e8fd9",
   "metadata": {},
   "outputs": [],
   "source": []
  }
 ],
 "metadata": {
  "kernelspec": {
   "display_name": "Python 3 (ipykernel)",
   "language": "python",
   "name": "python3"
  },
  "language_info": {
   "codemirror_mode": {
    "name": "ipython",
    "version": 3
   },
   "file_extension": ".py",
   "mimetype": "text/x-python",
   "name": "python",
   "nbconvert_exporter": "python",
   "pygments_lexer": "ipython3",
   "version": "3.10.9"
  }
 },
 "nbformat": 4,
 "nbformat_minor": 5
}
